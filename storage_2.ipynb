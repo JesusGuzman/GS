{
 "cells": [
  {
   "cell_type": "markdown",
   "metadata": {},
   "source": [
    "# Google Storage"
   ]
  },
  {
   "cell_type": "markdown",
   "metadata": {},
   "source": [
    "Para subir archivos a la GS nesesitamos importar la siguiente biblioteca"
   ]
  },
  {
   "cell_type": "code",
   "execution_count": null,
   "metadata": {},
   "outputs": [],
   "source": [
    "from google.cloud import storage"
   ]
  },
  {
   "cell_type": "markdown",
   "metadata": {},
   "source": [
    "es importante tener la llave \"multiplicaquant.json\" en la misma carpeta en donde se ejecutaran las funciones"
   ]
  },
  {
   "cell_type": "markdown",
   "metadata": {},
   "source": [
    "# Subir archivos a GS"
   ]
  },
  {
   "cell_type": "code",
   "execution_count": 11,
   "metadata": {},
   "outputs": [],
   "source": [
    "#Funcion para subir archivos a GS\n",
    "def upload_files(files,folder,local):\n",
    "    storage_client = storage.Client.from_service_account_json('./multiplicaquant.json')\n",
    "    bucket = storage_client.get_bucket('trend_data')\n",
    "    for ticker in files:\n",
    "        blob = bucket.blob(folder+ticker)\n",
    "        blob.upload_from_filename(local+ticker)\n",
    "    "
   ]
  },
  {
   "cell_type": "markdown",
   "metadata": {},
   "source": [
    "definimos los parametros nesesarios para la funcion"
   ]
  },
  {
   "cell_type": "code",
   "execution_count": 12,
   "metadata": {},
   "outputs": [],
   "source": [
    "files = ['file.txt','doc.txt','docq.txt'] #Archivos que se desean subir\n",
    "folder = 'uriel/' #carpeta en GS donde se guardaran los archivos \n",
    "local = './' #ruta en de la carpeta donde se encuentran los archivos localmente"
   ]
  },
  {
   "cell_type": "markdown",
   "metadata": {},
   "source": [
    "Teniendo los parametros definidos basta con llamar a la funcion upload_files pasandole los parametros"
   ]
  },
  {
   "cell_type": "code",
   "execution_count": null,
   "metadata": {},
   "outputs": [],
   "source": [
    "upload_files(files, folder, local)"
   ]
  },
  {
   "cell_type": "markdown",
   "metadata": {},
   "source": [
    "# Descargar documentos desde GS"
   ]
  },
  {
   "cell_type": "code",
   "execution_count": 23,
   "metadata": {},
   "outputs": [],
   "source": [
    "Funcion para Bajar archivos\n",
    "def download_blob(files, folder, destination):\n",
    "    storage_client = storage.Client.from_service_account_json('./multiplicaquant.json')\n",
    "    bucket = storage_client.get_bucket('trend_data')\n",
    "    for file in files:\n",
    "        blob = bucket.blob(folder+file)\n",
    "        blob.download_to_filename(destination+file)"
   ]
  },
  {
   "cell_type": "markdown",
   "metadata": {},
   "source": [
    "Definimos los parametros que utiliza la funcion"
   ]
  },
  {
   "cell_type": "code",
   "execution_count": 25,
   "metadata": {},
   "outputs": [],
   "source": [
    "files = ['file.txt','doc.txt','docq.txt']\n",
    "folder = 'uriel/' #carpeta en GS donde se encuentran los archivos \n",
    "destination = './' #ruta en de la carpeta donde se guardaran los archivlo localmente"
   ]
  },
  {
   "cell_type": "markdown",
   "metadata": {},
   "source": [
    "llamamos a la funcion pasandole los parametros"
   ]
  },
  {
   "cell_type": "code",
   "execution_count": null,
   "metadata": {},
   "outputs": [],
   "source": [
    "download_blob(files, folder, destination)"
   ]
  }
 ],
 "metadata": {
  "kernelspec": {
   "display_name": "Python 3",
   "language": "python",
   "name": "python3"
  },
  "language_info": {
   "codemirror_mode": {
    "name": "ipython",
    "version": 3
   },
   "file_extension": ".py",
   "mimetype": "text/x-python",
   "name": "python",
   "nbconvert_exporter": "python",
   "pygments_lexer": "ipython3",
   "version": "3.6.3"
  }
 },
 "nbformat": 4,
 "nbformat_minor": 2
}
